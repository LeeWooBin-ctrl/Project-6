{
 "cells": [
  {
   "cell_type": "code",
   "execution_count": 1,
   "id": "b8818d77",
   "metadata": {},
   "outputs": [
    {
     "name": "stdout",
     "output_type": "stream",
     "text": [
      "Warning: Looks like you're using an outdated `kagglehub` version (installed: 0.3.11), please consider upgrading to the latest version (0.3.12).\n",
      "Path to dataset files: /home/iamafi/.cache/kagglehub/datasets/ashery/chexpert/versions/1\n"
     ]
    }
   ],
   "source": [
    "import kagglehub\n",
    "\n",
    "# Download latest version\n",
    "path = kagglehub.dataset_download(\"ashery/chexpert\")\n",
    "print(\"Path to dataset files:\", path)"
   ]
  },
  {
   "cell_type": "code",
   "execution_count": 2,
   "id": "23c15bc8",
   "metadata": {},
   "outputs": [],
   "source": [
    "import numpy as np\n",
    "import pandas as pd\n",
    "import matplotlib.pyplot as plt\n",
    "\n",
    "plt.style.use(\"ggplot\")\n",
    "\n",
    "import torch\n",
    "import torch.nn as nn\n",
    "import torchvision.transforms as transforms\n",
    "\n",
    "import timm\n",
    "\n",
    "import os\n",
    "import random\n",
    "\n",
    "from PIL import Image\n",
    "from tqdm.notebook import tqdm\n",
    "from torch.utils.data import Dataset, DataLoader"
   ]
  },
  {
   "cell_type": "code",
   "execution_count": 3,
   "id": "4e961719",
   "metadata": {},
   "outputs": [
    {
     "name": "stdout",
     "output_type": "stream",
     "text": [
      "Device: cuda\n"
     ]
    }
   ],
   "source": [
    "DATA_DIR = \"/home/iamafi/.cache/kagglehub/datasets/ashery/chexpert/versions/1\" \n",
    "\n",
    "# Set the path to your CSV files\n",
    "TRAIN_CSV = os.path.join(DATA_DIR, \"train.csv\")\n",
    "VALID_CSV = os.path.join(DATA_DIR, \"valid.csv\")\n",
    "\n",
    "# Set parameters\n",
    "BATCH_SIZE = 32\n",
    "IMAGE_SIZE = (224, 224)\n",
    "NUM_EPOCHS = 5\n",
    "LR = 2e-05\n",
    "GAMMA = 0.7\n",
    "\n",
    "# Define the device for training\n",
    "DEVICE = torch.device(\"cuda\" if torch.cuda.is_available() else \"cpu\")\n",
    "\n",
    "# Print the device\n",
    "print(\"Device:\", DEVICE)"
   ]
  },
  {
   "cell_type": "code",
   "execution_count": 4,
   "id": "6bbad1e4",
   "metadata": {},
   "outputs": [],
   "source": [
    "def seed_everything(seed):\n",
    "    \"\"\"\n",
    "    Seeds basic parameters for reproductibility of results\n",
    "    \n",
    "    Arguments:\n",
    "        seed {int} -- Number of the seed\n",
    "    \"\"\"\n",
    "    random.seed(seed)\n",
    "    os.environ[\"PYTHONHASHSEED\"] = str(seed)\n",
    "    np.random.seed(seed)\n",
    "    torch.manual_seed(seed)\n",
    "    torch.cuda.manual_seed(seed)\n",
    "    torch.backends.cudnn.deterministic = True\n",
    "    torch.backends.cudnn.benchmark = False\n",
    "\n",
    "\n",
    "seed_everything(1001)"
   ]
  },
  {
   "cell_type": "code",
   "execution_count": 5,
   "id": "dc495218",
   "metadata": {},
   "outputs": [
    {
     "name": "stdout",
     "output_type": "stream",
     "text": [
      "Train shape: (223414, 19)\n",
      "Valid shape: (234, 19)\n"
     ]
    }
   ],
   "source": [
    "# df_train = pd.read_csv(TRAIN_CSV, nrows=50000)\n",
    "df_train = pd.read_csv(TRAIN_CSV)\n",
    "df_valid = pd.read_csv(VALID_CSV)\n",
    "\n",
    "print(\"Train shape:\", df_train.shape)\n",
    "print(\"Valid shape:\", df_valid.shape)"
   ]
  },
  {
   "cell_type": "code",
   "execution_count": 6,
   "id": "31adc0ac",
   "metadata": {},
   "outputs": [
    {
     "name": "stdout",
     "output_type": "stream",
     "text": [
      "<class 'pandas.core.frame.DataFrame'>\n",
      "RangeIndex: 223414 entries, 0 to 223413\n",
      "Data columns (total 19 columns):\n",
      " #   Column                      Non-Null Count   Dtype  \n",
      "---  ------                      --------------   -----  \n",
      " 0   Path                        223414 non-null  object \n",
      " 1   Sex                         223414 non-null  object \n",
      " 2   Age                         223414 non-null  int64  \n",
      " 3   Frontal/Lateral             223414 non-null  object \n",
      " 4   AP/PA                       191027 non-null  object \n",
      " 5   No Finding                  22381 non-null   float64\n",
      " 6   Enlarged Cardiomediastinum  44839 non-null   float64\n",
      " 7   Cardiomegaly                46203 non-null   float64\n",
      " 8   Lung Opacity                117778 non-null  float64\n",
      " 9   Lung Lesion                 11944 non-null   float64\n",
      " 10  Edema                       85956 non-null   float64\n",
      " 11  Consolidation               70622 non-null   float64\n",
      " 12  Pneumonia                   27608 non-null   float64\n",
      " 13  Atelectasis                 68443 non-null   float64\n",
      " 14  Pneumothorax                78934 non-null   float64\n",
      " 15  Pleural Effusion            133211 non-null  float64\n",
      " 16  Pleural Other               6492 non-null    float64\n",
      " 17  Fracture                    12194 non-null   float64\n",
      " 18  Support Devices             123217 non-null  float64\n",
      "dtypes: float64(14), int64(1), object(4)\n",
      "memory usage: 32.4+ MB\n"
     ]
    }
   ],
   "source": [
    "df_train.info()"
   ]
  },
  {
   "cell_type": "code",
   "execution_count": 7,
   "id": "cdad88e3",
   "metadata": {},
   "outputs": [
    {
     "name": "stdout",
     "output_type": "stream",
     "text": [
      "<class 'pandas.core.frame.DataFrame'>\n",
      "RangeIndex: 234 entries, 0 to 233\n",
      "Data columns (total 19 columns):\n",
      " #   Column                      Non-Null Count  Dtype  \n",
      "---  ------                      --------------  -----  \n",
      " 0   Path                        234 non-null    object \n",
      " 1   Sex                         234 non-null    object \n",
      " 2   Age                         234 non-null    int64  \n",
      " 3   Frontal/Lateral             234 non-null    object \n",
      " 4   AP/PA                       202 non-null    object \n",
      " 5   No Finding                  234 non-null    float64\n",
      " 6   Enlarged Cardiomediastinum  234 non-null    float64\n",
      " 7   Cardiomegaly                234 non-null    float64\n",
      " 8   Lung Opacity                234 non-null    float64\n",
      " 9   Lung Lesion                 234 non-null    float64\n",
      " 10  Edema                       234 non-null    float64\n",
      " 11  Consolidation               234 non-null    float64\n",
      " 12  Pneumonia                   234 non-null    float64\n",
      " 13  Atelectasis                 234 non-null    float64\n",
      " 14  Pneumothorax                234 non-null    float64\n",
      " 15  Pleural Effusion            234 non-null    float64\n",
      " 16  Pleural Other               234 non-null    float64\n",
      " 17  Fracture                    234 non-null    float64\n",
      " 18  Support Devices             234 non-null    float64\n",
      "dtypes: float64(14), int64(1), object(4)\n",
      "memory usage: 34.9+ KB\n"
     ]
    }
   ],
   "source": [
    "df_valid.info()"
   ]
  },
  {
   "cell_type": "code",
   "execution_count": 8,
   "id": "fb2e6213",
   "metadata": {},
   "outputs": [],
   "source": [
    "label_columns = ['Cardiomegaly', 'Edema', 'Consolidation', 'Pneumonia', 'No Finding', 'Enlarged Cardiomediastinum', 'Atelectasis', 'Pneumothorax', 'Pleural Effusion',\n",
    "                 'Pleural Other', 'Fracture', 'Support Devices', 'Lung Opacity', 'Lung Lesion']\n",
    "NUM_CLASSES = len(label_columns)"
   ]
  },
  {
   "cell_type": "code",
   "execution_count": 9,
   "id": "8d332666",
   "metadata": {},
   "outputs": [],
   "source": [
    "# Extract image paths and labels\n",
    "df_train['Path'] = df_train['Path'].apply(lambda x: f\"{DATA_DIR}/{x.replace(\"CheXpert-v1.0-small/\", \"\")}\")  # Ensure correct path\n",
    "df_valid['Path'] = df_valid['Path'].apply(lambda x: f\"{DATA_DIR}/{x.replace(\"CheXpert-v1.0-small/\", \"\")}\")  # Ensure correct path\n",
    "\n",
    "# Replace NaN with 0\n",
    "df_train[label_columns] = df_train[label_columns].fillna(0).astype(int)  # Replace NaNs and convert to integers\n",
    "df_valid[label_columns] = df_valid[label_columns].fillna(0).astype(int)  # Replace NaNs and convert to integers\n",
    "\n",
    "# Replace -1 (uncertain) with 0 (negative)\n",
    "# df_train[label_columns] = df_train[label_columns].replace(-1, 0)\n",
    "# df_valid[label_columns] = df_valid[label_columns].replace(-1, 0)"
   ]
  },
  {
   "cell_type": "code",
   "execution_count": 10,
   "id": "7bafd7dc",
   "metadata": {},
   "outputs": [
    {
     "data": {
      "text/html": [
       "<div>\n",
       "<style scoped>\n",
       "    .dataframe tbody tr th:only-of-type {\n",
       "        vertical-align: middle;\n",
       "    }\n",
       "\n",
       "    .dataframe tbody tr th {\n",
       "        vertical-align: top;\n",
       "    }\n",
       "\n",
       "    .dataframe thead th {\n",
       "        text-align: right;\n",
       "    }\n",
       "</style>\n",
       "<table border=\"1\" class=\"dataframe\">\n",
       "  <thead>\n",
       "    <tr style=\"text-align: right;\">\n",
       "      <th></th>\n",
       "      <th>Cardiomegaly</th>\n",
       "      <th>Edema</th>\n",
       "      <th>Consolidation</th>\n",
       "      <th>Pneumonia</th>\n",
       "      <th>No Finding</th>\n",
       "      <th>Enlarged Cardiomediastinum</th>\n",
       "      <th>Atelectasis</th>\n",
       "      <th>Pneumothorax</th>\n",
       "      <th>Pleural Effusion</th>\n",
       "      <th>Pleural Other</th>\n",
       "      <th>Fracture</th>\n",
       "      <th>Support Devices</th>\n",
       "      <th>Lung Opacity</th>\n",
       "      <th>Lung Lesion</th>\n",
       "    </tr>\n",
       "  </thead>\n",
       "  <tbody>\n",
       "    <tr>\n",
       "      <th>0</th>\n",
       "      <td>0</td>\n",
       "      <td>0</td>\n",
       "      <td>0</td>\n",
       "      <td>0</td>\n",
       "      <td>1</td>\n",
       "      <td>0</td>\n",
       "      <td>0</td>\n",
       "      <td>0</td>\n",
       "      <td>0</td>\n",
       "      <td>0</td>\n",
       "      <td>0</td>\n",
       "      <td>1</td>\n",
       "      <td>0</td>\n",
       "      <td>0</td>\n",
       "    </tr>\n",
       "    <tr>\n",
       "      <th>1</th>\n",
       "      <td>-1</td>\n",
       "      <td>-1</td>\n",
       "      <td>-1</td>\n",
       "      <td>0</td>\n",
       "      <td>0</td>\n",
       "      <td>0</td>\n",
       "      <td>-1</td>\n",
       "      <td>0</td>\n",
       "      <td>-1</td>\n",
       "      <td>0</td>\n",
       "      <td>1</td>\n",
       "      <td>0</td>\n",
       "      <td>1</td>\n",
       "      <td>0</td>\n",
       "    </tr>\n",
       "    <tr>\n",
       "      <th>2</th>\n",
       "      <td>0</td>\n",
       "      <td>0</td>\n",
       "      <td>-1</td>\n",
       "      <td>0</td>\n",
       "      <td>0</td>\n",
       "      <td>0</td>\n",
       "      <td>0</td>\n",
       "      <td>0</td>\n",
       "      <td>0</td>\n",
       "      <td>0</td>\n",
       "      <td>1</td>\n",
       "      <td>0</td>\n",
       "      <td>1</td>\n",
       "      <td>0</td>\n",
       "    </tr>\n",
       "    <tr>\n",
       "      <th>3</th>\n",
       "      <td>0</td>\n",
       "      <td>0</td>\n",
       "      <td>-1</td>\n",
       "      <td>0</td>\n",
       "      <td>0</td>\n",
       "      <td>0</td>\n",
       "      <td>0</td>\n",
       "      <td>0</td>\n",
       "      <td>0</td>\n",
       "      <td>0</td>\n",
       "      <td>1</td>\n",
       "      <td>0</td>\n",
       "      <td>1</td>\n",
       "      <td>0</td>\n",
       "    </tr>\n",
       "    <tr>\n",
       "      <th>4</th>\n",
       "      <td>0</td>\n",
       "      <td>1</td>\n",
       "      <td>0</td>\n",
       "      <td>0</td>\n",
       "      <td>0</td>\n",
       "      <td>0</td>\n",
       "      <td>0</td>\n",
       "      <td>0</td>\n",
       "      <td>0</td>\n",
       "      <td>0</td>\n",
       "      <td>0</td>\n",
       "      <td>0</td>\n",
       "      <td>0</td>\n",
       "      <td>0</td>\n",
       "    </tr>\n",
       "    <tr>\n",
       "      <th>...</th>\n",
       "      <td>...</td>\n",
       "      <td>...</td>\n",
       "      <td>...</td>\n",
       "      <td>...</td>\n",
       "      <td>...</td>\n",
       "      <td>...</td>\n",
       "      <td>...</td>\n",
       "      <td>...</td>\n",
       "      <td>...</td>\n",
       "      <td>...</td>\n",
       "      <td>...</td>\n",
       "      <td>...</td>\n",
       "      <td>...</td>\n",
       "      <td>...</td>\n",
       "    </tr>\n",
       "    <tr>\n",
       "      <th>223409</th>\n",
       "      <td>0</td>\n",
       "      <td>0</td>\n",
       "      <td>0</td>\n",
       "      <td>0</td>\n",
       "      <td>0</td>\n",
       "      <td>0</td>\n",
       "      <td>-1</td>\n",
       "      <td>0</td>\n",
       "      <td>1</td>\n",
       "      <td>0</td>\n",
       "      <td>0</td>\n",
       "      <td>0</td>\n",
       "      <td>-1</td>\n",
       "      <td>0</td>\n",
       "    </tr>\n",
       "    <tr>\n",
       "      <th>223410</th>\n",
       "      <td>0</td>\n",
       "      <td>0</td>\n",
       "      <td>0</td>\n",
       "      <td>0</td>\n",
       "      <td>0</td>\n",
       "      <td>0</td>\n",
       "      <td>-1</td>\n",
       "      <td>0</td>\n",
       "      <td>-1</td>\n",
       "      <td>0</td>\n",
       "      <td>0</td>\n",
       "      <td>0</td>\n",
       "      <td>-1</td>\n",
       "      <td>0</td>\n",
       "    </tr>\n",
       "    <tr>\n",
       "      <th>223411</th>\n",
       "      <td>0</td>\n",
       "      <td>-1</td>\n",
       "      <td>0</td>\n",
       "      <td>0</td>\n",
       "      <td>0</td>\n",
       "      <td>0</td>\n",
       "      <td>0</td>\n",
       "      <td>0</td>\n",
       "      <td>0</td>\n",
       "      <td>0</td>\n",
       "      <td>0</td>\n",
       "      <td>0</td>\n",
       "      <td>0</td>\n",
       "      <td>0</td>\n",
       "    </tr>\n",
       "    <tr>\n",
       "      <th>223412</th>\n",
       "      <td>1</td>\n",
       "      <td>0</td>\n",
       "      <td>0</td>\n",
       "      <td>-1</td>\n",
       "      <td>0</td>\n",
       "      <td>0</td>\n",
       "      <td>1</td>\n",
       "      <td>0</td>\n",
       "      <td>0</td>\n",
       "      <td>0</td>\n",
       "      <td>0</td>\n",
       "      <td>0</td>\n",
       "      <td>1</td>\n",
       "      <td>0</td>\n",
       "    </tr>\n",
       "    <tr>\n",
       "      <th>223413</th>\n",
       "      <td>0</td>\n",
       "      <td>0</td>\n",
       "      <td>0</td>\n",
       "      <td>0</td>\n",
       "      <td>1</td>\n",
       "      <td>0</td>\n",
       "      <td>0</td>\n",
       "      <td>0</td>\n",
       "      <td>0</td>\n",
       "      <td>0</td>\n",
       "      <td>0</td>\n",
       "      <td>0</td>\n",
       "      <td>0</td>\n",
       "      <td>0</td>\n",
       "    </tr>\n",
       "  </tbody>\n",
       "</table>\n",
       "<p>223414 rows × 14 columns</p>\n",
       "</div>"
      ],
      "text/plain": [
       "        Cardiomegaly  Edema  Consolidation  Pneumonia  No Finding  \\\n",
       "0                  0      0              0          0           1   \n",
       "1                 -1     -1             -1          0           0   \n",
       "2                  0      0             -1          0           0   \n",
       "3                  0      0             -1          0           0   \n",
       "4                  0      1              0          0           0   \n",
       "...              ...    ...            ...        ...         ...   \n",
       "223409             0      0              0          0           0   \n",
       "223410             0      0              0          0           0   \n",
       "223411             0     -1              0          0           0   \n",
       "223412             1      0              0         -1           0   \n",
       "223413             0      0              0          0           1   \n",
       "\n",
       "        Enlarged Cardiomediastinum  Atelectasis  Pneumothorax  \\\n",
       "0                                0            0             0   \n",
       "1                                0           -1             0   \n",
       "2                                0            0             0   \n",
       "3                                0            0             0   \n",
       "4                                0            0             0   \n",
       "...                            ...          ...           ...   \n",
       "223409                           0           -1             0   \n",
       "223410                           0           -1             0   \n",
       "223411                           0            0             0   \n",
       "223412                           0            1             0   \n",
       "223413                           0            0             0   \n",
       "\n",
       "        Pleural Effusion  Pleural Other  Fracture  Support Devices  \\\n",
       "0                      0              0         0                1   \n",
       "1                     -1              0         1                0   \n",
       "2                      0              0         1                0   \n",
       "3                      0              0         1                0   \n",
       "4                      0              0         0                0   \n",
       "...                  ...            ...       ...              ...   \n",
       "223409                 1              0         0                0   \n",
       "223410                -1              0         0                0   \n",
       "223411                 0              0         0                0   \n",
       "223412                 0              0         0                0   \n",
       "223413                 0              0         0                0   \n",
       "\n",
       "        Lung Opacity  Lung Lesion  \n",
       "0                  0            0  \n",
       "1                  1            0  \n",
       "2                  1            0  \n",
       "3                  1            0  \n",
       "4                  0            0  \n",
       "...              ...          ...  \n",
       "223409            -1            0  \n",
       "223410            -1            0  \n",
       "223411             0            0  \n",
       "223412             1            0  \n",
       "223413             0            0  \n",
       "\n",
       "[223414 rows x 14 columns]"
      ]
     },
     "execution_count": 10,
     "metadata": {},
     "output_type": "execute_result"
    }
   ],
   "source": [
    "df_train[label_columns]"
   ]
  },
  {
   "cell_type": "code",
   "execution_count": 11,
   "id": "9f39a970",
   "metadata": {},
   "outputs": [
    {
     "data": {
      "text/html": [
       "<div>\n",
       "<style scoped>\n",
       "    .dataframe tbody tr th:only-of-type {\n",
       "        vertical-align: middle;\n",
       "    }\n",
       "\n",
       "    .dataframe tbody tr th {\n",
       "        vertical-align: top;\n",
       "    }\n",
       "\n",
       "    .dataframe thead th {\n",
       "        text-align: right;\n",
       "    }\n",
       "</style>\n",
       "<table border=\"1\" class=\"dataframe\">\n",
       "  <thead>\n",
       "    <tr style=\"text-align: right;\">\n",
       "      <th></th>\n",
       "      <th>Cardiomegaly</th>\n",
       "      <th>Edema</th>\n",
       "      <th>Consolidation</th>\n",
       "      <th>Pneumonia</th>\n",
       "      <th>No Finding</th>\n",
       "      <th>Enlarged Cardiomediastinum</th>\n",
       "      <th>Atelectasis</th>\n",
       "      <th>Pneumothorax</th>\n",
       "      <th>Pleural Effusion</th>\n",
       "      <th>Pleural Other</th>\n",
       "      <th>Fracture</th>\n",
       "      <th>Support Devices</th>\n",
       "      <th>Lung Opacity</th>\n",
       "      <th>Lung Lesion</th>\n",
       "    </tr>\n",
       "  </thead>\n",
       "  <tbody>\n",
       "    <tr>\n",
       "      <th>0</th>\n",
       "      <td>1</td>\n",
       "      <td>0</td>\n",
       "      <td>0</td>\n",
       "      <td>0</td>\n",
       "      <td>0</td>\n",
       "      <td>1</td>\n",
       "      <td>0</td>\n",
       "      <td>0</td>\n",
       "      <td>0</td>\n",
       "      <td>0</td>\n",
       "      <td>0</td>\n",
       "      <td>0</td>\n",
       "      <td>1</td>\n",
       "      <td>0</td>\n",
       "    </tr>\n",
       "    <tr>\n",
       "      <th>1</th>\n",
       "      <td>0</td>\n",
       "      <td>0</td>\n",
       "      <td>0</td>\n",
       "      <td>0</td>\n",
       "      <td>0</td>\n",
       "      <td>0</td>\n",
       "      <td>0</td>\n",
       "      <td>0</td>\n",
       "      <td>0</td>\n",
       "      <td>0</td>\n",
       "      <td>0</td>\n",
       "      <td>1</td>\n",
       "      <td>0</td>\n",
       "      <td>0</td>\n",
       "    </tr>\n",
       "    <tr>\n",
       "      <th>2</th>\n",
       "      <td>0</td>\n",
       "      <td>0</td>\n",
       "      <td>0</td>\n",
       "      <td>0</td>\n",
       "      <td>0</td>\n",
       "      <td>0</td>\n",
       "      <td>0</td>\n",
       "      <td>0</td>\n",
       "      <td>0</td>\n",
       "      <td>0</td>\n",
       "      <td>0</td>\n",
       "      <td>1</td>\n",
       "      <td>0</td>\n",
       "      <td>0</td>\n",
       "    </tr>\n",
       "    <tr>\n",
       "      <th>3</th>\n",
       "      <td>0</td>\n",
       "      <td>1</td>\n",
       "      <td>0</td>\n",
       "      <td>0</td>\n",
       "      <td>0</td>\n",
       "      <td>1</td>\n",
       "      <td>0</td>\n",
       "      <td>0</td>\n",
       "      <td>0</td>\n",
       "      <td>0</td>\n",
       "      <td>0</td>\n",
       "      <td>0</td>\n",
       "      <td>1</td>\n",
       "      <td>0</td>\n",
       "    </tr>\n",
       "    <tr>\n",
       "      <th>4</th>\n",
       "      <td>0</td>\n",
       "      <td>0</td>\n",
       "      <td>0</td>\n",
       "      <td>0</td>\n",
       "      <td>1</td>\n",
       "      <td>0</td>\n",
       "      <td>0</td>\n",
       "      <td>0</td>\n",
       "      <td>0</td>\n",
       "      <td>0</td>\n",
       "      <td>0</td>\n",
       "      <td>0</td>\n",
       "      <td>0</td>\n",
       "      <td>0</td>\n",
       "    </tr>\n",
       "    <tr>\n",
       "      <th>...</th>\n",
       "      <td>...</td>\n",
       "      <td>...</td>\n",
       "      <td>...</td>\n",
       "      <td>...</td>\n",
       "      <td>...</td>\n",
       "      <td>...</td>\n",
       "      <td>...</td>\n",
       "      <td>...</td>\n",
       "      <td>...</td>\n",
       "      <td>...</td>\n",
       "      <td>...</td>\n",
       "      <td>...</td>\n",
       "      <td>...</td>\n",
       "      <td>...</td>\n",
       "    </tr>\n",
       "    <tr>\n",
       "      <th>229</th>\n",
       "      <td>0</td>\n",
       "      <td>0</td>\n",
       "      <td>0</td>\n",
       "      <td>0</td>\n",
       "      <td>0</td>\n",
       "      <td>0</td>\n",
       "      <td>0</td>\n",
       "      <td>0</td>\n",
       "      <td>0</td>\n",
       "      <td>0</td>\n",
       "      <td>0</td>\n",
       "      <td>1</td>\n",
       "      <td>0</td>\n",
       "      <td>0</td>\n",
       "    </tr>\n",
       "    <tr>\n",
       "      <th>230</th>\n",
       "      <td>0</td>\n",
       "      <td>0</td>\n",
       "      <td>0</td>\n",
       "      <td>0</td>\n",
       "      <td>0</td>\n",
       "      <td>0</td>\n",
       "      <td>0</td>\n",
       "      <td>0</td>\n",
       "      <td>0</td>\n",
       "      <td>0</td>\n",
       "      <td>0</td>\n",
       "      <td>1</td>\n",
       "      <td>0</td>\n",
       "      <td>0</td>\n",
       "    </tr>\n",
       "    <tr>\n",
       "      <th>231</th>\n",
       "      <td>1</td>\n",
       "      <td>1</td>\n",
       "      <td>0</td>\n",
       "      <td>0</td>\n",
       "      <td>0</td>\n",
       "      <td>1</td>\n",
       "      <td>0</td>\n",
       "      <td>0</td>\n",
       "      <td>0</td>\n",
       "      <td>0</td>\n",
       "      <td>0</td>\n",
       "      <td>1</td>\n",
       "      <td>1</td>\n",
       "      <td>0</td>\n",
       "    </tr>\n",
       "    <tr>\n",
       "      <th>232</th>\n",
       "      <td>0</td>\n",
       "      <td>0</td>\n",
       "      <td>0</td>\n",
       "      <td>0</td>\n",
       "      <td>0</td>\n",
       "      <td>1</td>\n",
       "      <td>0</td>\n",
       "      <td>0</td>\n",
       "      <td>0</td>\n",
       "      <td>0</td>\n",
       "      <td>0</td>\n",
       "      <td>0</td>\n",
       "      <td>0</td>\n",
       "      <td>0</td>\n",
       "    </tr>\n",
       "    <tr>\n",
       "      <th>233</th>\n",
       "      <td>0</td>\n",
       "      <td>0</td>\n",
       "      <td>0</td>\n",
       "      <td>0</td>\n",
       "      <td>0</td>\n",
       "      <td>1</td>\n",
       "      <td>1</td>\n",
       "      <td>0</td>\n",
       "      <td>1</td>\n",
       "      <td>0</td>\n",
       "      <td>0</td>\n",
       "      <td>0</td>\n",
       "      <td>1</td>\n",
       "      <td>0</td>\n",
       "    </tr>\n",
       "  </tbody>\n",
       "</table>\n",
       "<p>234 rows × 14 columns</p>\n",
       "</div>"
      ],
      "text/plain": [
       "     Cardiomegaly  Edema  Consolidation  Pneumonia  No Finding  \\\n",
       "0               1      0              0          0           0   \n",
       "1               0      0              0          0           0   \n",
       "2               0      0              0          0           0   \n",
       "3               0      1              0          0           0   \n",
       "4               0      0              0          0           1   \n",
       "..            ...    ...            ...        ...         ...   \n",
       "229             0      0              0          0           0   \n",
       "230             0      0              0          0           0   \n",
       "231             1      1              0          0           0   \n",
       "232             0      0              0          0           0   \n",
       "233             0      0              0          0           0   \n",
       "\n",
       "     Enlarged Cardiomediastinum  Atelectasis  Pneumothorax  Pleural Effusion  \\\n",
       "0                             1            0             0                 0   \n",
       "1                             0            0             0                 0   \n",
       "2                             0            0             0                 0   \n",
       "3                             1            0             0                 0   \n",
       "4                             0            0             0                 0   \n",
       "..                          ...          ...           ...               ...   \n",
       "229                           0            0             0                 0   \n",
       "230                           0            0             0                 0   \n",
       "231                           1            0             0                 0   \n",
       "232                           1            0             0                 0   \n",
       "233                           1            1             0                 1   \n",
       "\n",
       "     Pleural Other  Fracture  Support Devices  Lung Opacity  Lung Lesion  \n",
       "0                0         0                0             1            0  \n",
       "1                0         0                1             0            0  \n",
       "2                0         0                1             0            0  \n",
       "3                0         0                0             1            0  \n",
       "4                0         0                0             0            0  \n",
       "..             ...       ...              ...           ...          ...  \n",
       "229              0         0                1             0            0  \n",
       "230              0         0                1             0            0  \n",
       "231              0         0                1             1            0  \n",
       "232              0         0                0             0            0  \n",
       "233              0         0                0             1            0  \n",
       "\n",
       "[234 rows x 14 columns]"
      ]
     },
     "execution_count": 11,
     "metadata": {},
     "output_type": "execute_result"
    }
   ],
   "source": [
    "df_valid[label_columns]"
   ]
  },
  {
   "cell_type": "code",
   "execution_count": 12,
   "id": "b6f9ff57",
   "metadata": {},
   "outputs": [
    {
     "data": {
      "text/html": [
       "<div>\n",
       "<style scoped>\n",
       "    .dataframe tbody tr th:only-of-type {\n",
       "        vertical-align: middle;\n",
       "    }\n",
       "\n",
       "    .dataframe tbody tr th {\n",
       "        vertical-align: top;\n",
       "    }\n",
       "\n",
       "    .dataframe thead th {\n",
       "        text-align: right;\n",
       "    }\n",
       "</style>\n",
       "<table border=\"1\" class=\"dataframe\">\n",
       "  <thead>\n",
       "    <tr style=\"text-align: right;\">\n",
       "      <th></th>\n",
       "      <th>Path</th>\n",
       "      <th>Cardiomegaly</th>\n",
       "      <th>Edema</th>\n",
       "      <th>Consolidation</th>\n",
       "      <th>Pneumonia</th>\n",
       "      <th>No Finding</th>\n",
       "      <th>Enlarged Cardiomediastinum</th>\n",
       "      <th>Atelectasis</th>\n",
       "      <th>Pneumothorax</th>\n",
       "      <th>Pleural Effusion</th>\n",
       "      <th>Pleural Other</th>\n",
       "      <th>Fracture</th>\n",
       "      <th>Support Devices</th>\n",
       "      <th>Lung Opacity</th>\n",
       "      <th>Lung Lesion</th>\n",
       "    </tr>\n",
       "  </thead>\n",
       "  <tbody>\n",
       "    <tr>\n",
       "      <th>0</th>\n",
       "      <td>/home/iamafi/.cache/kagglehub/datasets/ashery/...</td>\n",
       "      <td>0</td>\n",
       "      <td>0</td>\n",
       "      <td>0</td>\n",
       "      <td>0</td>\n",
       "      <td>1</td>\n",
       "      <td>0</td>\n",
       "      <td>0</td>\n",
       "      <td>0</td>\n",
       "      <td>0</td>\n",
       "      <td>0</td>\n",
       "      <td>0</td>\n",
       "      <td>1</td>\n",
       "      <td>0</td>\n",
       "      <td>0</td>\n",
       "    </tr>\n",
       "    <tr>\n",
       "      <th>1</th>\n",
       "      <td>/home/iamafi/.cache/kagglehub/datasets/ashery/...</td>\n",
       "      <td>-1</td>\n",
       "      <td>-1</td>\n",
       "      <td>-1</td>\n",
       "      <td>0</td>\n",
       "      <td>0</td>\n",
       "      <td>0</td>\n",
       "      <td>-1</td>\n",
       "      <td>0</td>\n",
       "      <td>-1</td>\n",
       "      <td>0</td>\n",
       "      <td>1</td>\n",
       "      <td>0</td>\n",
       "      <td>1</td>\n",
       "      <td>0</td>\n",
       "    </tr>\n",
       "    <tr>\n",
       "      <th>2</th>\n",
       "      <td>/home/iamafi/.cache/kagglehub/datasets/ashery/...</td>\n",
       "      <td>0</td>\n",
       "      <td>0</td>\n",
       "      <td>-1</td>\n",
       "      <td>0</td>\n",
       "      <td>0</td>\n",
       "      <td>0</td>\n",
       "      <td>0</td>\n",
       "      <td>0</td>\n",
       "      <td>0</td>\n",
       "      <td>0</td>\n",
       "      <td>1</td>\n",
       "      <td>0</td>\n",
       "      <td>1</td>\n",
       "      <td>0</td>\n",
       "    </tr>\n",
       "    <tr>\n",
       "      <th>3</th>\n",
       "      <td>/home/iamafi/.cache/kagglehub/datasets/ashery/...</td>\n",
       "      <td>0</td>\n",
       "      <td>0</td>\n",
       "      <td>-1</td>\n",
       "      <td>0</td>\n",
       "      <td>0</td>\n",
       "      <td>0</td>\n",
       "      <td>0</td>\n",
       "      <td>0</td>\n",
       "      <td>0</td>\n",
       "      <td>0</td>\n",
       "      <td>1</td>\n",
       "      <td>0</td>\n",
       "      <td>1</td>\n",
       "      <td>0</td>\n",
       "    </tr>\n",
       "    <tr>\n",
       "      <th>4</th>\n",
       "      <td>/home/iamafi/.cache/kagglehub/datasets/ashery/...</td>\n",
       "      <td>0</td>\n",
       "      <td>1</td>\n",
       "      <td>0</td>\n",
       "      <td>0</td>\n",
       "      <td>0</td>\n",
       "      <td>0</td>\n",
       "      <td>0</td>\n",
       "      <td>0</td>\n",
       "      <td>0</td>\n",
       "      <td>0</td>\n",
       "      <td>0</td>\n",
       "      <td>0</td>\n",
       "      <td>0</td>\n",
       "      <td>0</td>\n",
       "    </tr>\n",
       "  </tbody>\n",
       "</table>\n",
       "</div>"
      ],
      "text/plain": [
       "                                                Path  Cardiomegaly  Edema  \\\n",
       "0  /home/iamafi/.cache/kagglehub/datasets/ashery/...             0      0   \n",
       "1  /home/iamafi/.cache/kagglehub/datasets/ashery/...            -1     -1   \n",
       "2  /home/iamafi/.cache/kagglehub/datasets/ashery/...             0      0   \n",
       "3  /home/iamafi/.cache/kagglehub/datasets/ashery/...             0      0   \n",
       "4  /home/iamafi/.cache/kagglehub/datasets/ashery/...             0      1   \n",
       "\n",
       "   Consolidation  Pneumonia  No Finding  Enlarged Cardiomediastinum  \\\n",
       "0              0          0           1                           0   \n",
       "1             -1          0           0                           0   \n",
       "2             -1          0           0                           0   \n",
       "3             -1          0           0                           0   \n",
       "4              0          0           0                           0   \n",
       "\n",
       "   Atelectasis  Pneumothorax  Pleural Effusion  Pleural Other  Fracture  \\\n",
       "0            0             0                 0              0         0   \n",
       "1           -1             0                -1              0         1   \n",
       "2            0             0                 0              0         1   \n",
       "3            0             0                 0              0         1   \n",
       "4            0             0                 0              0         0   \n",
       "\n",
       "   Support Devices  Lung Opacity  Lung Lesion  \n",
       "0                1             0            0  \n",
       "1                0             1            0  \n",
       "2                0             1            0  \n",
       "3                0             1            0  \n",
       "4                0             0            0  "
      ]
     },
     "execution_count": 12,
     "metadata": {},
     "output_type": "execute_result"
    }
   ],
   "source": [
    "df_train[['Path'] + label_columns].head()"
   ]
  },
  {
   "cell_type": "code",
   "execution_count": 13,
   "id": "8710d720",
   "metadata": {},
   "outputs": [
    {
     "data": {
      "text/html": [
       "<div>\n",
       "<style scoped>\n",
       "    .dataframe tbody tr th:only-of-type {\n",
       "        vertical-align: middle;\n",
       "    }\n",
       "\n",
       "    .dataframe tbody tr th {\n",
       "        vertical-align: top;\n",
       "    }\n",
       "\n",
       "    .dataframe thead th {\n",
       "        text-align: right;\n",
       "    }\n",
       "</style>\n",
       "<table border=\"1\" class=\"dataframe\">\n",
       "  <thead>\n",
       "    <tr style=\"text-align: right;\">\n",
       "      <th></th>\n",
       "      <th>Path</th>\n",
       "      <th>Cardiomegaly</th>\n",
       "      <th>Edema</th>\n",
       "      <th>Consolidation</th>\n",
       "      <th>Pneumonia</th>\n",
       "      <th>No Finding</th>\n",
       "      <th>Enlarged Cardiomediastinum</th>\n",
       "      <th>Atelectasis</th>\n",
       "      <th>Pneumothorax</th>\n",
       "      <th>Pleural Effusion</th>\n",
       "      <th>Pleural Other</th>\n",
       "      <th>Fracture</th>\n",
       "      <th>Support Devices</th>\n",
       "      <th>Lung Opacity</th>\n",
       "      <th>Lung Lesion</th>\n",
       "    </tr>\n",
       "  </thead>\n",
       "  <tbody>\n",
       "    <tr>\n",
       "      <th>0</th>\n",
       "      <td>/home/iamafi/.cache/kagglehub/datasets/ashery/...</td>\n",
       "      <td>1</td>\n",
       "      <td>0</td>\n",
       "      <td>0</td>\n",
       "      <td>0</td>\n",
       "      <td>0</td>\n",
       "      <td>1</td>\n",
       "      <td>0</td>\n",
       "      <td>0</td>\n",
       "      <td>0</td>\n",
       "      <td>0</td>\n",
       "      <td>0</td>\n",
       "      <td>0</td>\n",
       "      <td>1</td>\n",
       "      <td>0</td>\n",
       "    </tr>\n",
       "    <tr>\n",
       "      <th>1</th>\n",
       "      <td>/home/iamafi/.cache/kagglehub/datasets/ashery/...</td>\n",
       "      <td>0</td>\n",
       "      <td>0</td>\n",
       "      <td>0</td>\n",
       "      <td>0</td>\n",
       "      <td>0</td>\n",
       "      <td>0</td>\n",
       "      <td>0</td>\n",
       "      <td>0</td>\n",
       "      <td>0</td>\n",
       "      <td>0</td>\n",
       "      <td>0</td>\n",
       "      <td>1</td>\n",
       "      <td>0</td>\n",
       "      <td>0</td>\n",
       "    </tr>\n",
       "    <tr>\n",
       "      <th>2</th>\n",
       "      <td>/home/iamafi/.cache/kagglehub/datasets/ashery/...</td>\n",
       "      <td>0</td>\n",
       "      <td>0</td>\n",
       "      <td>0</td>\n",
       "      <td>0</td>\n",
       "      <td>0</td>\n",
       "      <td>0</td>\n",
       "      <td>0</td>\n",
       "      <td>0</td>\n",
       "      <td>0</td>\n",
       "      <td>0</td>\n",
       "      <td>0</td>\n",
       "      <td>1</td>\n",
       "      <td>0</td>\n",
       "      <td>0</td>\n",
       "    </tr>\n",
       "    <tr>\n",
       "      <th>3</th>\n",
       "      <td>/home/iamafi/.cache/kagglehub/datasets/ashery/...</td>\n",
       "      <td>0</td>\n",
       "      <td>1</td>\n",
       "      <td>0</td>\n",
       "      <td>0</td>\n",
       "      <td>0</td>\n",
       "      <td>1</td>\n",
       "      <td>0</td>\n",
       "      <td>0</td>\n",
       "      <td>0</td>\n",
       "      <td>0</td>\n",
       "      <td>0</td>\n",
       "      <td>0</td>\n",
       "      <td>1</td>\n",
       "      <td>0</td>\n",
       "    </tr>\n",
       "    <tr>\n",
       "      <th>4</th>\n",
       "      <td>/home/iamafi/.cache/kagglehub/datasets/ashery/...</td>\n",
       "      <td>0</td>\n",
       "      <td>0</td>\n",
       "      <td>0</td>\n",
       "      <td>0</td>\n",
       "      <td>1</td>\n",
       "      <td>0</td>\n",
       "      <td>0</td>\n",
       "      <td>0</td>\n",
       "      <td>0</td>\n",
       "      <td>0</td>\n",
       "      <td>0</td>\n",
       "      <td>0</td>\n",
       "      <td>0</td>\n",
       "      <td>0</td>\n",
       "    </tr>\n",
       "  </tbody>\n",
       "</table>\n",
       "</div>"
      ],
      "text/plain": [
       "                                                Path  Cardiomegaly  Edema  \\\n",
       "0  /home/iamafi/.cache/kagglehub/datasets/ashery/...             1      0   \n",
       "1  /home/iamafi/.cache/kagglehub/datasets/ashery/...             0      0   \n",
       "2  /home/iamafi/.cache/kagglehub/datasets/ashery/...             0      0   \n",
       "3  /home/iamafi/.cache/kagglehub/datasets/ashery/...             0      1   \n",
       "4  /home/iamafi/.cache/kagglehub/datasets/ashery/...             0      0   \n",
       "\n",
       "   Consolidation  Pneumonia  No Finding  Enlarged Cardiomediastinum  \\\n",
       "0              0          0           0                           1   \n",
       "1              0          0           0                           0   \n",
       "2              0          0           0                           0   \n",
       "3              0          0           0                           1   \n",
       "4              0          0           1                           0   \n",
       "\n",
       "   Atelectasis  Pneumothorax  Pleural Effusion  Pleural Other  Fracture  \\\n",
       "0            0             0                 0              0         0   \n",
       "1            0             0                 0              0         0   \n",
       "2            0             0                 0              0         0   \n",
       "3            0             0                 0              0         0   \n",
       "4            0             0                 0              0         0   \n",
       "\n",
       "   Support Devices  Lung Opacity  Lung Lesion  \n",
       "0                0             1            0  \n",
       "1                1             0            0  \n",
       "2                1             0            0  \n",
       "3                0             1            0  \n",
       "4                0             0            0  "
      ]
     },
     "execution_count": 13,
     "metadata": {},
     "output_type": "execute_result"
    }
   ],
   "source": [
    "df_valid[['Path'] + label_columns].head()"
   ]
  },
  {
   "cell_type": "code",
   "execution_count": 14,
   "id": "17b1a66d",
   "metadata": {},
   "outputs": [],
   "source": [
    "class CheXpertDataset(Dataset):\n",
    "    def __init__(self, dataframe, transform=None):\n",
    "        self.dataframe = dataframe\n",
    "        self.transform = transform\n",
    "\n",
    "    def __len__(self):\n",
    "        return len(self.dataframe)\n",
    "\n",
    "    def __getitem__(self, idx):\n",
    "        row = self.dataframe.iloc[idx]\n",
    "        \n",
    "        # Load the image\n",
    "        image_path = row['Path']\n",
    "        image = Image.open(image_path).convert('RGB')\n",
    "        \n",
    "        # Convert labels to a float tensor\n",
    "        label = torch.tensor(row[label_columns].values.astype(int), dtype=torch.float32)\n",
    "        \n",
    "        # Apply transformations\n",
    "        if self.transform:\n",
    "            image = self.transform(image)\n",
    "        \n",
    "        return image, label"
   ]
  },
  {
   "cell_type": "code",
   "execution_count": 15,
   "id": "19dedae7",
   "metadata": {},
   "outputs": [],
   "source": [
    "# Define transformations\n",
    "transform = transforms.Compose([\n",
    "    transforms.Resize(IMAGE_SIZE),  # Resize for BEiT\n",
    "    transforms.RandomHorizontalFlip(),\n",
    "    transforms.RandomRotation(10),\n",
    "    transforms.ToTensor(),\n",
    "    transforms.Normalize(mean=[0.5, 0.5, 0.5], std=[0.5, 0.5, 0.5])  # Normalize\n",
    "])\n",
    "\n",
    "transform_valid = transforms.Compose([\n",
    "    transforms.Resize(IMAGE_SIZE),  # Resize for BEiT\n",
    "    transforms.ToTensor(),\n",
    "    transforms.Normalize(mean=[0.5, 0.5, 0.5], std=[0.5, 0.5, 0.5])  # Normalize\n",
    "])"
   ]
  },
  {
   "cell_type": "code",
   "execution_count": 16,
   "id": "03a307ef",
   "metadata": {},
   "outputs": [],
   "source": [
    "train_dataset = CheXpertDataset(dataframe=df_train, transform=transform)\n",
    "valid_dataset = CheXpertDataset(dataframe=df_valid, transform=transform_valid)"
   ]
  },
  {
   "cell_type": "code",
   "execution_count": 17,
   "id": "d7d29a3c",
   "metadata": {},
   "outputs": [],
   "source": [
    "from torch.utils.data import DataLoader, random_split\n",
    "\n",
    "validation_split = 0.15\n",
    "\n",
    "# Compute split sizes\n",
    "total_size = len(train_dataset)\n",
    "val_size = int(total_size * validation_split)\n",
    "train_size = total_size - val_size\n",
    "\n",
    "train_subset, valid_subset = random_split(train_dataset, [train_size, val_size])\n"
   ]
  },
  {
   "cell_type": "code",
   "execution_count": 18,
   "id": "f93314db",
   "metadata": {},
   "outputs": [
    {
     "data": {
      "text/plain": [
       "189902"
      ]
     },
     "execution_count": 18,
     "metadata": {},
     "output_type": "execute_result"
    }
   ],
   "source": [
    "len(train_subset)"
   ]
  },
  {
   "cell_type": "code",
   "execution_count": 19,
   "id": "9771501b",
   "metadata": {},
   "outputs": [
    {
     "data": {
      "text/plain": [
       "33512"
      ]
     },
     "execution_count": 19,
     "metadata": {},
     "output_type": "execute_result"
    }
   ],
   "source": [
    "len(valid_subset)"
   ]
  },
  {
   "cell_type": "code",
   "execution_count": 20,
   "id": "1fa04998",
   "metadata": {},
   "outputs": [
    {
     "name": "stdout",
     "output_type": "stream",
     "text": [
      "Image batch shape: torch.Size([32, 3, 224, 224])\n",
      "Label batch shape: torch.Size([32, 14])\n",
      "Image batch shape: torch.Size([32, 3, 224, 224])\n",
      "Label batch shape: torch.Size([32, 14])\n"
     ]
    }
   ],
   "source": [
    "# Create DataLoader instances\n",
    "# train_loader = DataLoader(train_dataset, batch_size=BATCH_SIZE, shuffle=True, num_workers=8)\n",
    "# valid_loader = DataLoader(valid_dataset, batch_size=BATCH_SIZE, shuffle=False, num_workers=8)\n",
    "\n",
    "train_loader = DataLoader(train_subset, batch_size=BATCH_SIZE, shuffle=True, num_workers=8)\n",
    "valid_loader = DataLoader(valid_subset, batch_size=BATCH_SIZE, shuffle=False, num_workers=8)\n",
    "\n",
    "# Example: Iterate over the DataLoader\n",
    "for images, labels in train_loader:\n",
    "    print(\"Image batch shape:\", images.shape)\n",
    "    print(\"Label batch shape:\", labels.shape)\n",
    "    break\n",
    "\n",
    "for images, labels in valid_loader:\n",
    "    print(\"Image batch shape:\", images.shape)\n",
    "    print(\"Label batch shape:\", labels.shape)\n",
    "    break\n"
   ]
  },
  {
   "cell_type": "code",
   "execution_count": 21,
   "id": "3a193500",
   "metadata": {},
   "outputs": [
    {
     "data": {
      "text/plain": [
       "1048"
      ]
     },
     "execution_count": 21,
     "metadata": {},
     "output_type": "execute_result"
    }
   ],
   "source": [
    "len(valid_loader)"
   ]
  },
  {
   "cell_type": "code",
   "execution_count": 22,
   "id": "dc83bb0b",
   "metadata": {},
   "outputs": [
    {
     "data": {
      "text/plain": [
       "5935"
      ]
     },
     "execution_count": 22,
     "metadata": {},
     "output_type": "execute_result"
    }
   ],
   "source": [
    "len(train_loader)"
   ]
  },
  {
   "cell_type": "code",
   "execution_count": 23,
   "id": "18d02a73",
   "metadata": {},
   "outputs": [
    {
     "name": "stdout",
     "output_type": "stream",
     "text": [
      "Available Vision Transformer Models: \n"
     ]
    },
    {
     "data": {
      "text/plain": [
       "['vit_base_mci_224',\n",
       " 'vit_base_patch8_224',\n",
       " 'vit_base_patch14_dinov2',\n",
       " 'vit_base_patch14_reg4_dinov2',\n",
       " 'vit_base_patch16_18x2_224',\n",
       " 'vit_base_patch16_224',\n",
       " 'vit_base_patch16_224_miil',\n",
       " 'vit_base_patch16_384',\n",
       " 'vit_base_patch16_clip_224',\n",
       " 'vit_base_patch16_clip_384',\n",
       " 'vit_base_patch16_clip_quickgelu_224',\n",
       " 'vit_base_patch16_gap_224',\n",
       " 'vit_base_patch16_plus_240',\n",
       " 'vit_base_patch16_plus_clip_240',\n",
       " 'vit_base_patch16_reg4_gap_256',\n",
       " 'vit_base_patch16_rope_reg1_gap_256',\n",
       " 'vit_base_patch16_rpn_224',\n",
       " 'vit_base_patch16_siglip_224',\n",
       " 'vit_base_patch16_siglip_256',\n",
       " 'vit_base_patch16_siglip_384',\n",
       " 'vit_base_patch16_siglip_512',\n",
       " 'vit_base_patch16_siglip_gap_224',\n",
       " 'vit_base_patch16_siglip_gap_256',\n",
       " 'vit_base_patch16_siglip_gap_384',\n",
       " 'vit_base_patch16_siglip_gap_512',\n",
       " 'vit_base_patch16_xp_224',\n",
       " 'vit_base_patch32_224',\n",
       " 'vit_base_patch32_384',\n",
       " 'vit_base_patch32_clip_224',\n",
       " 'vit_base_patch32_clip_256',\n",
       " 'vit_base_patch32_clip_384',\n",
       " 'vit_base_patch32_clip_448',\n",
       " 'vit_base_patch32_clip_quickgelu_224',\n",
       " 'vit_base_patch32_plus_256',\n",
       " 'vit_base_patch32_siglip_256',\n",
       " 'vit_base_patch32_siglip_gap_256',\n",
       " 'vit_base_r26_s32_224',\n",
       " 'vit_base_r50_s16_224',\n",
       " 'vit_base_r50_s16_384',\n",
       " 'vit_base_resnet26d_224',\n",
       " 'vit_base_resnet50d_224',\n",
       " 'vit_betwixt_patch16_gap_256',\n",
       " 'vit_betwixt_patch16_reg1_gap_256',\n",
       " 'vit_betwixt_patch16_reg4_gap_256',\n",
       " 'vit_betwixt_patch16_reg4_gap_384',\n",
       " 'vit_betwixt_patch16_rope_reg4_gap_256',\n",
       " 'vit_betwixt_patch32_clip_224',\n",
       " 'vit_giant_patch14_224',\n",
       " 'vit_giant_patch14_clip_224',\n",
       " 'vit_giant_patch14_dinov2',\n",
       " 'vit_giant_patch14_reg4_dinov2',\n",
       " 'vit_giant_patch16_gap_224',\n",
       " 'vit_giantopt_patch16_siglip_256',\n",
       " 'vit_giantopt_patch16_siglip_384',\n",
       " 'vit_giantopt_patch16_siglip_gap_256',\n",
       " 'vit_giantopt_patch16_siglip_gap_384',\n",
       " 'vit_gigantic_patch14_224',\n",
       " 'vit_gigantic_patch14_clip_224',\n",
       " 'vit_gigantic_patch14_clip_quickgelu_224',\n",
       " 'vit_huge_patch14_224',\n",
       " 'vit_huge_patch14_clip_224',\n",
       " 'vit_huge_patch14_clip_336',\n",
       " 'vit_huge_patch14_clip_378',\n",
       " 'vit_huge_patch14_clip_quickgelu_224',\n",
       " 'vit_huge_patch14_clip_quickgelu_378',\n",
       " 'vit_huge_patch14_gap_224',\n",
       " 'vit_huge_patch14_xp_224',\n",
       " 'vit_huge_patch16_gap_448',\n",
       " 'vit_intern300m_patch14_448',\n",
       " 'vit_large_patch14_224',\n",
       " 'vit_large_patch14_clip_224',\n",
       " 'vit_large_patch14_clip_336',\n",
       " 'vit_large_patch14_clip_quickgelu_224',\n",
       " 'vit_large_patch14_clip_quickgelu_336',\n",
       " 'vit_large_patch14_dinov2',\n",
       " 'vit_large_patch14_reg4_dinov2',\n",
       " 'vit_large_patch14_xp_224',\n",
       " 'vit_large_patch16_224',\n",
       " 'vit_large_patch16_384',\n",
       " 'vit_large_patch16_siglip_256',\n",
       " 'vit_large_patch16_siglip_384',\n",
       " 'vit_large_patch16_siglip_512',\n",
       " 'vit_large_patch16_siglip_gap_256',\n",
       " 'vit_large_patch16_siglip_gap_384',\n",
       " 'vit_large_patch16_siglip_gap_512',\n",
       " 'vit_large_patch32_224',\n",
       " 'vit_large_patch32_384',\n",
       " 'vit_large_r50_s32_224',\n",
       " 'vit_large_r50_s32_384',\n",
       " 'vit_little_patch16_reg1_gap_256',\n",
       " 'vit_little_patch16_reg4_gap_256',\n",
       " 'vit_medium_patch16_clip_224',\n",
       " 'vit_medium_patch16_gap_240',\n",
       " 'vit_medium_patch16_gap_256',\n",
       " 'vit_medium_patch16_gap_384',\n",
       " 'vit_medium_patch16_reg1_gap_256',\n",
       " 'vit_medium_patch16_reg4_gap_256',\n",
       " 'vit_medium_patch16_rope_reg1_gap_256',\n",
       " 'vit_medium_patch32_clip_224',\n",
       " 'vit_mediumd_patch16_reg4_gap_256',\n",
       " 'vit_mediumd_patch16_reg4_gap_384',\n",
       " 'vit_mediumd_patch16_rope_reg1_gap_256',\n",
       " 'vit_pwee_patch16_reg1_gap_256',\n",
       " 'vit_relpos_base_patch16_224',\n",
       " 'vit_relpos_base_patch16_cls_224',\n",
       " 'vit_relpos_base_patch16_clsgap_224',\n",
       " 'vit_relpos_base_patch16_plus_240',\n",
       " 'vit_relpos_base_patch16_rpn_224',\n",
       " 'vit_relpos_base_patch32_plus_rpn_256',\n",
       " 'vit_relpos_medium_patch16_224',\n",
       " 'vit_relpos_medium_patch16_cls_224',\n",
       " 'vit_relpos_medium_patch16_rpn_224',\n",
       " 'vit_relpos_small_patch16_224',\n",
       " 'vit_relpos_small_patch16_rpn_224',\n",
       " 'vit_small_patch8_224',\n",
       " 'vit_small_patch14_dinov2',\n",
       " 'vit_small_patch14_reg4_dinov2',\n",
       " 'vit_small_patch16_18x2_224',\n",
       " 'vit_small_patch16_36x1_224',\n",
       " 'vit_small_patch16_224',\n",
       " 'vit_small_patch16_384',\n",
       " 'vit_small_patch32_224',\n",
       " 'vit_small_patch32_384',\n",
       " 'vit_small_r26_s32_224',\n",
       " 'vit_small_r26_s32_384',\n",
       " 'vit_small_resnet26d_224',\n",
       " 'vit_small_resnet50d_s16_224',\n",
       " 'vit_so150m2_patch16_reg1_gap_256',\n",
       " 'vit_so150m2_patch16_reg1_gap_384',\n",
       " 'vit_so150m2_patch16_reg1_gap_448',\n",
       " 'vit_so150m_patch16_reg4_gap_256',\n",
       " 'vit_so150m_patch16_reg4_gap_384',\n",
       " 'vit_so150m_patch16_reg4_map_256',\n",
       " 'vit_so400m_patch14_siglip_224',\n",
       " 'vit_so400m_patch14_siglip_378',\n",
       " 'vit_so400m_patch14_siglip_384',\n",
       " 'vit_so400m_patch14_siglip_gap_224',\n",
       " 'vit_so400m_patch14_siglip_gap_378',\n",
       " 'vit_so400m_patch14_siglip_gap_384',\n",
       " 'vit_so400m_patch14_siglip_gap_448',\n",
       " 'vit_so400m_patch14_siglip_gap_896',\n",
       " 'vit_so400m_patch16_siglip_256',\n",
       " 'vit_so400m_patch16_siglip_384',\n",
       " 'vit_so400m_patch16_siglip_512',\n",
       " 'vit_so400m_patch16_siglip_gap_256',\n",
       " 'vit_so400m_patch16_siglip_gap_384',\n",
       " 'vit_so400m_patch16_siglip_gap_512',\n",
       " 'vit_srelpos_medium_patch16_224',\n",
       " 'vit_srelpos_small_patch16_224',\n",
       " 'vit_tiny_patch16_224',\n",
       " 'vit_tiny_patch16_384',\n",
       " 'vit_tiny_r_s16_p8_224',\n",
       " 'vit_tiny_r_s16_p8_384',\n",
       " 'vit_wee_patch16_reg1_gap_256',\n",
       " 'vit_xsmall_patch16_clip_224',\n",
       " 'vitamin_base_224',\n",
       " 'vitamin_large2_224',\n",
       " 'vitamin_large2_256',\n",
       " 'vitamin_large2_336',\n",
       " 'vitamin_large2_384',\n",
       " 'vitamin_large_224',\n",
       " 'vitamin_large_256',\n",
       " 'vitamin_large_336',\n",
       " 'vitamin_large_384',\n",
       " 'vitamin_small_224',\n",
       " 'vitamin_xlarge_256',\n",
       " 'vitamin_xlarge_336',\n",
       " 'vitamin_xlarge_384']"
      ]
     },
     "execution_count": 23,
     "metadata": {},
     "output_type": "execute_result"
    }
   ],
   "source": [
    "print(\"Available Vision Transformer Models: \")\n",
    "timm.list_models(\"beit*\")"
   ]
  },
  {
   "cell_type": "code",
   "execution_count": 24,
   "id": "2afc3c64",
   "metadata": {},
   "outputs": [
    {
     "name": "stderr",
     "output_type": "stream",
     "text": [
      "Some weights of ViTForImageClassification were not initialized from the model checkpoint at google/vit-base-patch16-224 and are newly initialized because the shapes did not match:\n",
      "- classifier.bias: found shape torch.Size([1000]) in the checkpoint and torch.Size([14]) in the model instantiated\n",
      "- classifier.weight: found shape torch.Size([1000, 768]) in the checkpoint and torch.Size([14, 768]) in the model instantiated\n",
      "You should probably TRAIN this model on a down-stream task to be able to use it for predictions and inference.\n"
     ]
    }
   ],
   "source": [
    "from transformers import BEiTForImageClassification, BEiTImageProcessor\n",
    "from torch.optim import AdamW\n",
    "from torch.optim.lr_scheduler import CosineAnnealingLR\n",
    "import torch\n",
    "\n",
    "# Load pretrained BEiT\n",
    "model_name = \"google/beit-base-patch16-224\"\n",
    "model = BEiTForImageClassification.from_pretrained(model_name, num_labels=NUM_CLASSES, ignore_mismatched_sizes=True)  # Adjust num_labels\n",
    "\n",
    "# Processor for BEiT\n",
    "processor = BEiTImageProcessor.from_pretrained(model_name)\n",
    "if torch.cuda.device_count() > 1:\n",
    "    model = nn.DataParallel(model)\n",
    "model.to(DEVICE)\n",
    "\n",
    "# Define optimizer and scheduler\n",
    "optimizer = AdamW(model.parameters(), lr=LR)\n",
    "scheduler = CosineAnnealingLR(optimizer, T_max=10)\n",
    "\n",
    "# Loss function\n",
    "criterion = nn.BCEWithLogitsLoss()"
   ]
  },
  {
   "cell_type": "code",
   "execution_count": 25,
   "id": "287542a3",
   "metadata": {},
   "outputs": [],
   "source": [
    "def save_model(path):\n",
    "    # Save the model state dictionary\n",
    "    torch.save(model.state_dict(), path)\n",
    "    print(f\"Model saved successfully at {path}\")"
   ]
  },
  {
   "cell_type": "code",
   "execution_count": 26,
   "id": "4b9c4a78",
   "metadata": {},
   "outputs": [],
   "source": [
    "def train_one_epoch(model, loader, optimizer, criterion, device):\n",
    "    model.train()\n",
    "    running_loss = 0.0\n",
    "    correct_predictions = 0\n",
    "    total_predictions = 0\n",
    "\n",
    "    for images, labels in tqdm(loader):\n",
    "        images, labels = images.to(device), labels.to(device)\n",
    "\n",
    "        optimizer.zero_grad()\n",
    "        outputs = model(images).logits\n",
    "        loss = criterion(outputs, labels)\n",
    "        loss.backward()\n",
    "        optimizer.step()\n",
    "\n",
    "        running_loss += loss.item()\n",
    "\n",
    "        preds = (torch.sigmoid(outputs) > 0.5).float()\n",
    "        correct_predictions += (preds == labels).float().sum().item()\n",
    "        total_predictions += labels.numel()\n",
    "\n",
    "    avg_loss = running_loss / len(loader)\n",
    "    accuracy = correct_predictions / total_predictions * 100\n",
    "    return avg_loss, accuracy\n",
    "\n",
    "def evaluate(model, loader, criterion, device):\n",
    "    model.eval()\n",
    "    running_loss = 0.0\n",
    "    correct_predictions = 0\n",
    "    total_predictions = 0\n",
    "\n",
    "    with torch.no_grad():\n",
    "        for images, labels in loader:\n",
    "            images, labels = images.to(device), labels.to(device)\n",
    "\n",
    "            outputs = model(images).logits\n",
    "            loss = criterion(outputs, labels)\n",
    "            running_loss += loss.item()\n",
    "\n",
    "            preds = (torch.sigmoid(outputs) > 0.5).float()\n",
    "            correct_predictions += (preds == labels).float().sum().item()\n",
    "            total_predictions += labels.numel()\n",
    "\n",
    "    avg_loss = running_loss / len(loader)\n",
    "    accuracy = correct_predictions / total_predictions * 100\n",
    "    return avg_loss, accuracy"
   ]
  },
  {
   "cell_type": "code",
   "execution_count": 27,
   "id": "bb5b8350",
   "metadata": {},
   "outputs": [
    {
     "name": "stdout",
     "output_type": "stream",
     "text": [
      "\n",
      "🟢 Epoch 1/10\n"
     ]
    },
    {
     "data": {
      "application/vnd.jupyter.widget-view+json": {
       "model_id": "0bfba83567ac4a9a9ed744464e9201ac",
       "version_major": 2,
       "version_minor": 0
      },
      "text/plain": [
       "  0%|          | 0/5935 [00:00<?, ?it/s]"
      ]
     },
     "metadata": {},
     "output_type": "display_data"
    },
    {
     "name": "stdout",
     "output_type": "stream",
     "text": [
      "Train Loss: -0.0794, Train Acc: 82.86%\n",
      "Valid Loss: -0.3808, Valid Acc: 83.43%\n",
      "\n",
      "🟢 Epoch 2/10\n"
     ]
    },
    {
     "data": {
      "application/vnd.jupyter.widget-view+json": {
       "model_id": "0881aa0fa0394807821f2a132ab71f91",
       "version_major": 2,
       "version_minor": 0
      },
      "text/plain": [
       "  0%|          | 0/5935 [00:00<?, ?it/s]"
      ]
     },
     "metadata": {},
     "output_type": "display_data"
    },
    {
     "name": "stdout",
     "output_type": "stream",
     "text": [
      "Train Loss: -0.7111, Train Acc: 83.34%\n",
      "Valid Loss: -1.1005, Valid Acc: 83.36%\n",
      "\n",
      "🟢 Epoch 3/10\n"
     ]
    },
    {
     "data": {
      "application/vnd.jupyter.widget-view+json": {
       "model_id": "5b336a83a613424592335e0babc86397",
       "version_major": 2,
       "version_minor": 0
      },
      "text/plain": [
       "  0%|          | 0/5935 [00:00<?, ?it/s]"
      ]
     },
     "metadata": {},
     "output_type": "display_data"
    },
    {
     "name": "stdout",
     "output_type": "stream",
     "text": [
      "Train Loss: -1.4742, Train Acc: 83.34%\n",
      "Valid Loss: -1.9372, Valid Acc: 83.14%\n",
      "\n",
      "🟢 Epoch 4/10\n"
     ]
    },
    {
     "data": {
      "application/vnd.jupyter.widget-view+json": {
       "model_id": "a00d685abb894b9cafc0db655e5cbf6f",
       "version_major": 2,
       "version_minor": 0
      },
      "text/plain": [
       "  0%|          | 0/5935 [00:00<?, ?it/s]"
      ]
     },
     "metadata": {},
     "output_type": "display_data"
    },
    {
     "name": "stdout",
     "output_type": "stream",
     "text": [
      "Train Loss: -2.3140, Train Acc: 83.30%\n",
      "Valid Loss: -2.7876, Valid Acc: 83.12%\n",
      "\n",
      "🟢 Epoch 5/10\n"
     ]
    },
    {
     "data": {
      "application/vnd.jupyter.widget-view+json": {
       "model_id": "f5a3ee08b58e43da86a0787cc6e12f46",
       "version_major": 2,
       "version_minor": 0
      },
      "text/plain": [
       "  0%|          | 0/5935 [00:00<?, ?it/s]"
      ]
     },
     "metadata": {},
     "output_type": "display_data"
    },
    {
     "name": "stdout",
     "output_type": "stream",
     "text": [
      "Train Loss: -3.1566, Train Acc: 83.29%\n",
      "Valid Loss: -3.5903, Valid Acc: 83.19%\n",
      "\n",
      "🟢 Epoch 6/10\n"
     ]
    },
    {
     "data": {
      "application/vnd.jupyter.widget-view+json": {
       "model_id": "ba5d488bed2144f1aed8007cfa164b25",
       "version_major": 2,
       "version_minor": 0
      },
      "text/plain": [
       "  0%|          | 0/5935 [00:00<?, ?it/s]"
      ]
     },
     "metadata": {},
     "output_type": "display_data"
    },
    {
     "name": "stdout",
     "output_type": "stream",
     "text": [
      "Train Loss: -3.9221, Train Acc: 83.34%\n",
      "Valid Loss: -4.2561, Valid Acc: 83.38%\n",
      "\n",
      "🟢 Epoch 7/10\n"
     ]
    },
    {
     "data": {
      "application/vnd.jupyter.widget-view+json": {
       "model_id": "fba941a34df746e8898472aa03dffb81",
       "version_major": 2,
       "version_minor": 0
      },
      "text/plain": [
       "  0%|          | 0/5935 [00:00<?, ?it/s]"
      ]
     },
     "metadata": {},
     "output_type": "display_data"
    },
    {
     "name": "stdout",
     "output_type": "stream",
     "text": [
      "Train Loss: -4.5538, Train Acc: 83.42%\n",
      "Valid Loss: -4.7776, Valid Acc: 83.31%\n",
      "\n",
      "🟢 Epoch 8/10\n"
     ]
    },
    {
     "data": {
      "application/vnd.jupyter.widget-view+json": {
       "model_id": "21a91e6aba6f43b7beb2c0e5e3d48f7b",
       "version_major": 2,
       "version_minor": 0
      },
      "text/plain": [
       "  0%|          | 0/5935 [00:00<?, ?it/s]"
      ]
     },
     "metadata": {},
     "output_type": "display_data"
    },
    {
     "name": "stdout",
     "output_type": "stream",
     "text": [
      "Train Loss: -5.0066, Train Acc: 83.48%\n",
      "Valid Loss: -5.0548, Valid Acc: 83.45%\n",
      "\n",
      "🟢 Epoch 9/10\n"
     ]
    },
    {
     "data": {
      "application/vnd.jupyter.widget-view+json": {
       "model_id": "c4a93b03e8b04a97aacb4bdc46b1f0b6",
       "version_major": 2,
       "version_minor": 0
      },
      "text/plain": [
       "  0%|          | 0/5935 [00:00<?, ?it/s]"
      ]
     },
     "metadata": {},
     "output_type": "display_data"
    },
    {
     "name": "stdout",
     "output_type": "stream",
     "text": [
      "Train Loss: -5.2673, Train Acc: 83.52%\n",
      "Valid Loss: -5.2059, Valid Acc: 83.46%\n",
      "\n",
      "🟢 Epoch 10/10\n"
     ]
    },
    {
     "data": {
      "application/vnd.jupyter.widget-view+json": {
       "model_id": "634eabd8696644228c847ee938a517c4",
       "version_major": 2,
       "version_minor": 0
      },
      "text/plain": [
       "  0%|          | 0/5935 [00:00<?, ?it/s]"
      ]
     },
     "metadata": {},
     "output_type": "display_data"
    },
    {
     "name": "stdout",
     "output_type": "stream",
     "text": [
      "Train Loss: -5.3917, Train Acc: 83.54%\n",
      "Valid Loss: -5.2457, Valid Acc: 83.45%\n"
     ]
    }
   ],
   "source": [
    "NUM_EPOCHS = 10\n",
    "\n",
    "train_losses = []\n",
    "valid_losses = []\n",
    "train_accs = []\n",
    "valid_accs = []\n",
    "\n",
    "for epoch in range(NUM_EPOCHS):\n",
    "    print(f\"\\n🟢 Epoch {epoch+1}/{NUM_EPOCHS}\")\n",
    "\n",
    "    train_loss, train_acc = train_one_epoch(model, train_loader, optimizer, criterion, DEVICE)\n",
    "    valid_loss, valid_acc = evaluate(model, valid_loader, criterion, DEVICE)\n",
    "    scheduler.step()\n",
    "\n",
    "    print(f\"Train Loss: {train_loss:.4f}, Train Acc: {train_acc:.2f}%\")\n",
    "    print(f\"Valid Loss: {valid_loss:.4f}, Valid Acc: {valid_acc:.2f}%\")\n",
    "\n",
    "    train_losses.append(train_loss)\n",
    "    valid_losses.append(valid_loss)\n",
    "    train_accs.append(train_acc)\n",
    "    valid_accs.append(valid_acc)\n"
   ]
  },
  {
   "cell_type": "code",
   "execution_count": 28,
   "id": "020d6c59",
   "metadata": {},
   "outputs": [
    {
     "name": "stdout",
     "output_type": "stream",
     "text": [
      "Model saved successfully at vit_model_with_14_labels_3_classes.pth\n"
     ]
    }
   ],
   "source": [
    "MODEL_WITH_2_CLASSES = \"beit_model_with_14_labels_3_classes.pth\"\n",
    "save_model(MODEL_WITH_2_CLASSES)"
   ]
  },
  {
   "cell_type": "code",
   "execution_count": 29,
   "id": "0f0938fe",
   "metadata": {},
   "outputs": [
    {
     "data": {
      "image/png": "[encoded data removed]",
      "text/plain": [
       "<Figure size 1200x500 with 2 Axes>"
      ]
     },
     "metadata": {},
     "output_type": "display_data"
    }
   ],
   "source": [
    "epochs = range(1, NUM_EPOCHS + 1)\n",
    "\n",
    "plt.figure(figsize=(12, 5))\n",
    "\n",
    "plt.subplot(1, 2, 1)\n",
    "plt.plot(epochs, train_losses, marker='o', label='Train Loss')\n",
    "plt.plot(epochs, valid_losses, marker='o', label='Valid Loss')\n",
    "plt.xlabel('Epoch')\n",
    "plt.ylabel('Loss')\n",
    "plt.title('Loss per Epoch')\n",
    "plt.legend()\n",
    "\n",
    "\n",
    "plt.subplot(1, 2, 2)\n",
    "plt.plot(epochs, train_accs, marker='o', label='Train Accuracy')\n",
    "plt.plot(epochs, valid_accs, marker='o', label='Valid Accuracy')\n",
    "plt.xlabel('Epoch')\n",
    "plt.ylabel('Accuracy (%)')\n",
    "plt.title('Accuracy per Epoch')\n",
    "plt.legend()\n",
    "\n",
    "plt.tight_layout()\n",
    "plt.show()"
   ]
  },
  {
   "cell_type": "markdown",
   "id": "67e0c88b",
   "metadata": {},
   "source": [
    "# Heatmaps"
   ]
  },
  {
   "cell_type": "code",
   "execution_count": 72,
   "id": "a8ead1d6",
   "metadata": {},
   "outputs": [
    {
     "data": {
      "text/plain": [
       "torch.Size([1, 3, 224, 224])"
      ]
     },
     "execution_count": 72,
     "metadata": {},
     "output_type": "execute_result"
    }
   ],
   "source": [
    "# Assuming something similar to this:\n",
    "dataiter = iter(train_loader)\n",
    "images, labels = next(dataiter)"
   ]
  },
  {
   "cell_type": "code",
   "execution_count": 359,
   "id": "faa83fbd",
   "metadata": {},
   "outputs": [
    {
     "data": {
      "text/plain": [
       "torch.Size([1, 3, 224, 224])"
      ]
     },
     "execution_count": 359,
     "metadata": {},
     "output_type": "execute_result"
    }
   ],
   "source": [
    "\n",
    "# Let's pick the first image for simplicity\n",
    "image_tensor = images[9].unsqueeze(0)  # Shape: (1, C, H, W)\n",
    "image_tensor.shape"
   ]
  },
  {
   "cell_type": "code",
   "execution_count": 360,
   "id": "d62858a2",
   "metadata": {},
   "outputs": [
    {
     "data": {
      "text/plain": [
       "tensor([ 0.,  0.,  0.,  0.,  0., -1.,  0.,  0.,  0.,  0.,  0.,  1.,  0.,  1.])"
      ]
     },
     "execution_count": 360,
     "metadata": {},
     "output_type": "execute_result"
    }
   ],
   "source": [
    "labels[9]"
   ]
  },
  {
   "cell_type": "code",
   "execution_count": 362,
   "id": "76b88636",
   "metadata": {},
   "outputs": [
    {
     "data": {
      "text/plain": [
       "tensor([[-2.9857, -4.1679, -4.2925, -3.7492, -0.4830, -1.4628, -3.9887, -6.5116,\n",
       "         -4.1613, -5.1324, -4.1078,  1.8585, -0.9252, -1.7543]],\n",
       "       device='cuda:0')"
      ]
     },
     "execution_count": 362,
     "metadata": {},
     "output_type": "execute_result"
    }
   ],
   "source": [
    "outputs.logits"
   ]
  },
  {
   "cell_type": "code",
   "execution_count": 363,
   "id": "1371b952",
   "metadata": {},
   "outputs": [
    {
     "data": {
      "text/plain": [
       "tensor([[0., 0., 0., 0., 0., 0., 0., 0., 0., 0., 0., 1., 0., 0.]],\n",
       "       device='cuda:0')"
      ]
     },
     "execution_count": 363,
     "metadata": {},
     "output_type": "execute_result"
    }
   ],
   "source": [
    "preds = (torch.sigmoid(outputs.logits) > 0.5).float()\n",
    "preds\n"
   ]
  },
  {
   "cell_type": "code",
   "execution_count": 364,
   "id": "c9356dc0",
   "metadata": {},
   "outputs": [
    {
     "name": "stdout",
     "output_type": "stream",
     "text": [
      "['Support Devices']\n"
     ]
    }
   ],
   "source": [
    "selected_labels = [label for label, pred in zip(label_columns, preds[0]) if pred == 1]\n",
    "\n",
    "print(selected_labels)"
   ]
  },
  {
   "cell_type": "code",
   "execution_count": 366,
   "id": "19dceb6b",
   "metadata": {},
   "outputs": [],
   "source": [
    "cls_attn = attn_map[0, 1:] "
   ]
  },
  {
   "cell_type": "code",
   "execution_count": 368,
   "id": "36f5ed81",
   "metadata": {},
   "outputs": [],
   "source": [
    "import torchvision.transforms as T\n",
    "\n",
    "unnorm = T.Normalize(\n",
    "    mean=[-1, -1, -1],\n",
    "    std=[1/0.5, 1/0.5, 1/0.5]\n",
    ")\n",
    "img_np = unnorm(image_tensor[0].cpu()).permute(1, 2, 0).numpy()\n",
    "img_np = np.clip(img_np, 0, 1)  # Clip values to valid image range"
   ]
  },
  {
   "cell_type": "code",
   "execution_count": null,
   "id": "3ddb34c7",
   "metadata": {},
   "outputs": [],
   "source": []
  }
 ],
 "metadata": {},
 "nbformat": 4,
 "nbformat_minor": 5
}
